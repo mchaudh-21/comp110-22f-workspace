{
 "cells": [
  {
   "cell_type": "code",
   "execution_count": 3,
   "metadata": {},
   "outputs": [
    {
     "ename": "TypeError",
     "evalue": "i_count() missing 1 required positional argument: 'n'",
     "output_type": "error",
     "traceback": [
      "\u001b[1;31m---------------------------------------------------------------------------\u001b[0m",
      "\u001b[1;31mTypeError\u001b[0m                                 Traceback (most recent call last)",
      "\u001b[1;32mc:\\Users\\Maansi\\comp110-22f-workspace\\lessons\\random.ipynb Cell 1\u001b[0m in \u001b[0;36m<cell line: 17>\u001b[1;34m()\u001b[0m\n\u001b[0;32m     <a href='vscode-notebook-cell:/c%3A/Users/Maansi/comp110-22f-workspace/lessons/random.ipynb#W0sZmlsZQ%3D%3D?line=14'>15</a>\u001b[0m             A[i] \u001b[39m+\u001b[39m\u001b[39m=\u001b[39m \u001b[39m1\u001b[39m\n\u001b[0;32m     <a href='vscode-notebook-cell:/c%3A/Users/Maansi/comp110-22f-workspace/lessons/random.ipynb#W0sZmlsZQ%3D%3D?line=15'>16</a>\u001b[0m     \u001b[39mreturn\u001b[39;00m count\n\u001b[1;32m---> <a href='vscode-notebook-cell:/c%3A/Users/Maansi/comp110-22f-workspace/lessons/random.ipynb#W0sZmlsZQ%3D%3D?line=16'>17</a>\u001b[0m i_count()\n",
      "\u001b[1;31mTypeError\u001b[0m: i_count() missing 1 required positional argument: 'n'"
     ]
    }
   ],
   "source": [
    "def i_count(n, printflag = False):\n",
    "    printflag and print(f'{n}-tuples where the ith element is from  [0..{n}-i].  Order matters, repetition allowed.')\n",
    "    A = np.zeros(n, 'int')\n",
    "    count = 0\n",
    "    i = 0\n",
    "    while i < n:\n",
    "        printflag and print(A)\n",
    "        count += 1\n",
    "        A[0] += 1\n",
    "        i = 0\n",
    "        while A[i] >= n-i:\n",
    "            A[i] = 0\n",
    "            i = i+1\n",
    "            if i == n: break\n",
    "            A[i] += 1\n",
    "    return count\n",
    "i_count()"
   ]
  },
  {
   "cell_type": "code",
   "execution_count": 13,
   "metadata": {},
   "outputs": [
    {
     "data": {
      "text/plain": [
       "15"
      ]
     },
     "execution_count": 13,
     "metadata": {},
     "output_type": "execute_result"
    }
   ],
   "source": [
    "def one_loop(n):\n",
    "    ''' One loop, from 0 to n-1 '''\n",
    "    count = 0\n",
    "    for i in range(n):\n",
    "        count += 1\n",
    "    return count\n",
    "one_loop(15)"
   ]
  },
  {
   "cell_type": "code",
   "execution_count": 18,
   "metadata": {},
   "outputs": [
    {
     "data": {
      "text/plain": [
       "625"
      ]
     },
     "execution_count": 18,
     "metadata": {},
     "output_type": "execute_result"
    }
   ],
   "source": [
    "def nested2(n):\n",
    "    ''' Two nested loops from 0 to n-1 '''\n",
    "    count = 0\n",
    "    for i in range(n):\n",
    "        for j in range(n):\n",
    "            count += 1\n",
    "    return count\n",
    "nested2(25)"
   ]
  },
  {
   "cell_type": "code",
   "execution_count": 19,
   "metadata": {},
   "outputs": [
    {
     "data": {
      "text/plain": [
       "300"
      ]
     },
     "execution_count": 19,
     "metadata": {},
     "output_type": "execute_result"
    }
   ],
   "source": [
    "def nested_ij(n):\n",
    "    ''' Nested loops: outer i from 0 to n-1; inner from 0 to i-1 '''\n",
    "    count = 0\n",
    "    for i in range(n):\n",
    "        for j in range(i):\n",
    "            count += 1\n",
    "    return count\n",
    "\n",
    "def compare(n,c):\n",
    "    formula1 = nested_ij(n)\n",
    "    formula2 = c*(n**2)\n",
    "\n",
    "    if formula1 <= formula2:\n",
    "        print(\"works\")\n",
    "\n",
    "nested_ij(25)"
   ]
  },
  {
   "cell_type": "code",
   "execution_count": 22,
   "metadata": {},
   "outputs": [
    {
     "data": {
      "text/plain": [
       "2300"
      ]
     },
     "execution_count": 22,
     "metadata": {},
     "output_type": "execute_result"
    }
   ],
   "source": [
    "def nested_ijk(n):\n",
    "    ''' Nested loops: outer i from 0 to n-1; middle j from 0 to i-1; inner k from 0 to j-1 '''\n",
    "    count = 0\n",
    "    for i in range(n):\n",
    "        for j in range(i):\n",
    "            for k in range(j):\n",
    "                count += 1\n",
    "    return count\n",
    "nested_ijk(25)"
   ]
  },
  {
   "cell_type": "code",
   "execution_count": 25,
   "metadata": {},
   "outputs": [
    {
     "data": {
      "text/plain": [
       "15625"
      ]
     },
     "execution_count": 25,
     "metadata": {},
     "output_type": "execute_result"
    }
   ],
   "source": [
    "def nested3(n):\n",
    "    ''' Three nested loops from 0 to n-1 '''\n",
    "    count = 0\n",
    "    for i in range(n):\n",
    "        for j in range(n):\n",
    "            for k in range(n):\n",
    "                count += 1\n",
    "    return count\n",
    "nested3(25)"
   ]
  },
  {
   "cell_type": "code",
   "execution_count": 24,
   "metadata": {},
   "outputs": [
    {
     "data": {
      "text/plain": [
       "32"
      ]
     },
     "execution_count": 24,
     "metadata": {},
     "output_type": "execute_result"
    }
   ],
   "source": [
    "import numpy as np\n",
    "\n",
    "def binary_count(n, printflag = False):\n",
    "    printflag and print( n , \"-bit binary numbers, least significant bit first\")\n",
    "    A = np.zeros(n, 'int')\n",
    "    count = 0\n",
    "    i = 0\n",
    "    while i < n:\n",
    "        printflag and print(A)\n",
    "        count += 1\n",
    "        A[0] += 1\n",
    "        i = 0\n",
    "        while A[i] > 1:\n",
    "            A[i] = 0\n",
    "            i = i+1\n",
    "            if i == n: break\n",
    "            A[i] += 1\n",
    "    return count\n",
    "\n",
    "binary_count(5)"
   ]
  },
  {
   "cell_type": "code",
   "execution_count": 7,
   "metadata": {},
   "outputs": [
    {
     "data": {
      "text/plain": [
       "3125"
      ]
     },
     "execution_count": 7,
     "metadata": {},
     "output_type": "execute_result"
    }
   ],
   "source": [
    "def n_count(n, printflag = False):\n",
    "    printflag and print(f'{n}-tuples from [0..{n-1}].  Order matters, repetition allowed.')\n",
    "    A = np.zeros(n, 'int')\n",
    "    count = 0\n",
    "    i = 0\n",
    "    while i < n:\n",
    "        printflag and print(A)\n",
    "        count += 1\n",
    "        A[0] += 1\n",
    "        i = 0\n",
    "        while A[i] >= n:\n",
    "            A[i] = 0\n",
    "            i = i+1\n",
    "            if i == n: break\n",
    "            A[i] += 1\n",
    "    return count\n",
    "\n",
    "n_count(5)"
   ]
  },
  {
   "cell_type": "code",
   "execution_count": 30,
   "metadata": {},
   "outputs": [
    {
     "data": {
      "text/plain": [
       "126"
      ]
     },
     "execution_count": 30,
     "metadata": {},
     "output_type": "execute_result"
    }
   ],
   "source": [
    "def nondecr_count(n, printflag = False):\n",
    "    printflag and print(f'Choose {n} from  [0..{n-1}] with repetition.  List as non-decreasing {n}- tuple.')\n",
    "    A = np.zeros(n, 'int')\n",
    "    count = 0\n",
    "    i = 0\n",
    "    while A[n-1] < n:\n",
    "        printflag and print(A)\n",
    "        count += 1\n",
    "        A[0] += 1\n",
    "        i = 0\n",
    "        while i < n-1 and A[i] > A[i+1]:\n",
    "            A[i] = 0\n",
    "            i = i+1\n",
    "            A[i] += 1\n",
    "    return count\n",
    "\n",
    "nondecr_count(5)"
   ]
  },
  {
   "cell_type": "code",
   "execution_count": 28,
   "metadata": {},
   "outputs": [
    {
     "data": {
      "text/plain": [
       "120"
      ]
     },
     "execution_count": 28,
     "metadata": {},
     "output_type": "execute_result"
    }
   ],
   "source": [
    "def i_count(n, printflag = False):\n",
    "    printflag and print(f'{n}-tuples where the ith element is from  [0..{n}-i].  Order matters, repetition allowed.')\n",
    "    A = np.zeros(n, 'int')\n",
    "    count = 0\n",
    "    i = 0\n",
    "    while i < n:\n",
    "        printflag and print(A)\n",
    "        count += 1\n",
    "        A[0] += 1\n",
    "        i = 0\n",
    "        while A[i] >= n-i:\n",
    "            A[i] = 0\n",
    "            i = i+1\n",
    "            if i == n: break\n",
    "            A[i] += 1\n",
    "    return count\n",
    "i_count(5)"
   ]
  },
  {
   "cell_type": "code",
   "execution_count": 29,
   "metadata": {},
   "outputs": [
    {
     "data": {
      "text/plain": [
       "252"
      ]
     },
     "execution_count": 29,
     "metadata": {},
     "output_type": "execute_result"
    }
   ],
   "source": [
    "def incr_count(n, printflag = False):\n",
    "    printflag and print(f'Choose {n} from  [0..{2*n-1}] without repetition.  List as increasing {n}- tuple.')\n",
    "    A = np.arange(n)\n",
    "    count = 0\n",
    "    i = 0\n",
    "    while A[n-1] < 2*n:\n",
    "        printflag and print(A)\n",
    "        count += 1\n",
    "        A[0] += 1\n",
    "        i = 0\n",
    "        while i < n-1 and A[i] >= A[i+1]:\n",
    "            A[i] = i\n",
    "            i = i+1\n",
    "            A[i] += 1\n",
    "    return count\n",
    "incr_count(5)"
   ]
  },
  {
   "cell_type": "code",
   "execution_count": null,
   "metadata": {},
   "outputs": [],
   "source": []
  }
 ],
 "metadata": {
  "kernelspec": {
   "display_name": "Python 3.10.6 64-bit",
   "language": "python",
   "name": "python3"
  },
  "language_info": {
   "codemirror_mode": {
    "name": "ipython",
    "version": 3
   },
   "file_extension": ".py",
   "mimetype": "text/x-python",
   "name": "python",
   "nbconvert_exporter": "python",
   "pygments_lexer": "ipython3",
   "version": "3.10.6"
  },
  "orig_nbformat": 4,
  "vscode": {
   "interpreter": {
    "hash": "ea858d344371e82c4ec231c25d5aea202d32ebd2d6ae1b7a4867b0236e0b058c"
   }
  }
 },
 "nbformat": 4,
 "nbformat_minor": 2
}
