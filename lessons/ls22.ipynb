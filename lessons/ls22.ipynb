{
 "cells": [
  {
   "cell_type": "code",
   "execution_count": null,
   "metadata": {},
   "outputs": [],
   "source": [
    "col_data: dict[str, list[float]] = {\n",
    "    \"high\": [77, 84, 78, 79, 65, 67, 74, 61, 55, 61],\n",
    "    \"low\":  [67, 51, 64, 45, 43, 53, 56, 37, 34, 42],\n",
    "    \"rain\": [.3, .2, .4, .8, 0., .2, .4, .5, .1, .1]\n",
    "}\n"
   ]
  },
  {
   "cell_type": "code",
   "execution_count": null,
   "metadata": {},
   "outputs": [],
   "source": [
    "[true, false, true, true, true]"
   ]
  }
 ],
 "metadata": {
  "kernelspec": {
   "display_name": "Python 3.10.6 64-bit",
   "language": "python",
   "name": "python3"
  },
  "language_info": {
   "name": "python",
   "version": "3.10.6"
  },
  "orig_nbformat": 4,
  "vscode": {
   "interpreter": {
    "hash": "ea858d344371e82c4ec231c25d5aea202d32ebd2d6ae1b7a4867b0236e0b058c"
   }
  }
 },
 "nbformat": 4,
 "nbformat_minor": 2
}
